{
 "cells": [
  {
   "cell_type": "markdown",
   "metadata": {},
   "source": [
    "### Note\n",
    "* Instructions have been included for each segment. You do not have to follow them exactly, but they are included to help you think through the steps."
   ]
  },
  {
   "cell_type": "code",
   "execution_count": 1,
   "metadata": {},
   "outputs": [],
   "source": [
    "# Dependencies and Setup\n",
    "import pandas as pd\n",
    "import numpy as np\n",
    "\n",
    "# File to Load (Remember to Change These)\n",
    "file_to_load = \"Resources/purchase_data.csv\"\n",
    "\n",
    "# Read Purchasing File and store into Pandas data frame\n",
    "purchase_data = pd.read_csv(file_to_load)\n",
    "\n",
    "\n",
    "#formatting code\n",
    "#lambda format for formatting\n",
    "f = lambda a,b: pd.Series([\"${0:.2f}\".format(val) for val in b[a]], index = b.index)\n",
    "g = lambda a,b: pd.Series([round(val, 2) for val in b[a]], index = b.index)\n",
    "h = lambda a,b: pd.Series([\"{0:.2f}%\".format(val) for val in b[a]], index = b.index)\n",
    "\n",
    "#format style frames themselves (can use CSS)\n",
    "th_props = [\n",
    "  ('font-family', 'Times'),\n",
    "  ('font-size', '14px'),\n",
    "  ('text-align', 'center'),\n",
    "  ('font-weight', 'bold'),\n",
    "  ('color', '#2F4F4F'),\n",
    "  ('background-color', '#F0FFF0')\n",
    "  ]\n",
    "\n",
    "td_props = [\n",
    "  ('font-family', 'Times'),\n",
    "  ('font-size', '14px'),\n",
    "  ('text-align', 'center'),\n",
    "  ('background-color', '#F5FFFA')\n",
    "  ]\n",
    "\n",
    "styles = [\n",
    "  dict(selector=\"th\", props=th_props),\n",
    "  dict(selector=\"td\", props=td_props)\n",
    "  ]\n"
   ]
  },
  {
   "cell_type": "markdown",
   "metadata": {},
   "source": [
    "## Player Count"
   ]
  },
  {
   "cell_type": "markdown",
   "metadata": {},
   "source": [
    "* Display the total number of players\n"
   ]
  },
  {
   "cell_type": "code",
   "execution_count": 2,
   "metadata": {},
   "outputs": [
    {
     "data": {
      "text/html": [
       "<style  type=\"text/css\" >\n",
       "    #T_149ed2c0_f81f_11e9_b032_c49ded08efef th {\n",
       "          font-family: Times;\n",
       "          font-size: 14px;\n",
       "          text-align: center;\n",
       "          font-weight: bold;\n",
       "          color: #2F4F4F;\n",
       "          background-color: #F0FFF0;\n",
       "    }    #T_149ed2c0_f81f_11e9_b032_c49ded08efef td {\n",
       "          font-family: Times;\n",
       "          font-size: 14px;\n",
       "          text-align: center;\n",
       "          background-color: #F5FFFA;\n",
       "    }</style><table id=\"T_149ed2c0_f81f_11e9_b032_c49ded08efef\" ><thead>    <tr>        <th class=\"blank level0\" ></th>        <th class=\"col_heading level0 col0\" >Total Players</th>    </tr></thead><tbody>\n",
       "                <tr>\n",
       "                        <th id=\"T_149ed2c0_f81f_11e9_b032_c49ded08efeflevel0_row0\" class=\"row_heading level0 row0\" >0</th>\n",
       "                        <td id=\"T_149ed2c0_f81f_11e9_b032_c49ded08efefrow0_col0\" class=\"data row0 col0\" >576</td>\n",
       "            </tr>\n",
       "    </tbody></table>"
      ],
      "text/plain": [
       "<pandas.io.formats.style.Styler at 0x209bc63a128>"
      ]
     },
     "execution_count": 2,
     "metadata": {},
     "output_type": "execute_result"
    }
   ],
   "source": [
    "players = purchase_data.groupby('SN').count()\n",
    "players = pd.DataFrame(players.count())\n",
    "players = pd.DataFrame(purchase_data.groupby('SN').count().count())\n",
    "tot_players = pd.DataFrame(players.reset_index().iloc[1])\n",
    "tot_players.drop(\"index\")\n",
    "tot_players = pd.DataFrame([tot_players.iloc[1][1]],columns=['Total Players'])\n",
    "tot_players\n",
    "\n",
    "(tot_players.style\n",
    "    .set_table_styles(styles))"
   ]
  },
  {
   "cell_type": "markdown",
   "metadata": {},
   "source": [
    "* Run basic calculations to obtain number of unique items, average price, etc.\n",
    "\n",
    "\n",
    "* Create a summary data frame to hold the results\n",
    "\n",
    "\n",
    "* Optional: give the displayed data cleaner formatting\n",
    "\n",
    "\n",
    "* Display the summary data frame\n"
   ]
  },
  {
   "cell_type": "code",
   "execution_count": 3,
   "metadata": {
    "scrolled": true
   },
   "outputs": [
    {
     "data": {
      "text/html": [
       "<style  type=\"text/css\" >\n",
       "    #T_14a69034_f81f_11e9_8e27_c49ded08efef th {\n",
       "          font-family: Times;\n",
       "          font-size: 14px;\n",
       "          text-align: center;\n",
       "          font-weight: bold;\n",
       "          color: #2F4F4F;\n",
       "          background-color: #F0FFF0;\n",
       "    }    #T_14a69034_f81f_11e9_8e27_c49ded08efef td {\n",
       "          font-family: Times;\n",
       "          font-size: 14px;\n",
       "          text-align: center;\n",
       "          background-color: #F5FFFA;\n",
       "    }</style><table id=\"T_14a69034_f81f_11e9_8e27_c49ded08efef\" ><thead>    <tr>        <th class=\"blank level0\" ></th>        <th class=\"col_heading level0 col0\" >Number of Unique Items</th>        <th class=\"col_heading level0 col1\" >Average Price</th>        <th class=\"col_heading level0 col2\" >Number of Purchases</th>        <th class=\"col_heading level0 col3\" >Total Revenue</th>    </tr></thead><tbody>\n",
       "                <tr>\n",
       "                        <th id=\"T_14a69034_f81f_11e9_8e27_c49ded08efeflevel0_row0\" class=\"row_heading level0 row0\" >0</th>\n",
       "                        <td id=\"T_14a69034_f81f_11e9_8e27_c49ded08efefrow0_col0\" class=\"data row0 col0\" >183</td>\n",
       "                        <td id=\"T_14a69034_f81f_11e9_8e27_c49ded08efefrow0_col1\" class=\"data row0 col1\" >$3.04</td>\n",
       "                        <td id=\"T_14a69034_f81f_11e9_8e27_c49ded08efefrow0_col2\" class=\"data row0 col2\" >780</td>\n",
       "                        <td id=\"T_14a69034_f81f_11e9_8e27_c49ded08efefrow0_col3\" class=\"data row0 col3\" >$2379.77</td>\n",
       "            </tr>\n",
       "    </tbody></table>"
      ],
      "text/plain": [
       "<pandas.io.formats.style.Styler at 0x209bf76e4e0>"
      ]
     },
     "execution_count": 3,
     "metadata": {},
     "output_type": "execute_result"
    }
   ],
   "source": [
    "\n",
    "#makes df with average price\n",
    "items = purchase_data.groupby('Item ID').mean()\n",
    "\n",
    "#makes df with item counts\n",
    "items_count = purchase_data['Item ID'].value_counts()\n",
    "items_c_df = pd.DataFrame(items_count)\n",
    "\n",
    "#RENAME\n",
    "items_c_df.columns = ['Count']\n",
    "\n",
    "#Item Count DataFrame\n",
    "i_c = items_c_df[\"Count\"].sum()\n",
    "\n",
    "#Total Number of Purhcases\n",
    "pur_count = purchase_data[\"Purchase ID\"].count()\n",
    "\n",
    "#Total Revenue\n",
    "purchase_data\n",
    "revenue = purchase_data[\"Price\"].sum()\n",
    "\n",
    "#Summary Table\n",
    "summary = [(items_c_df['Count'].count(), items['Price'].mean(), pur_count, revenue)]\n",
    "\n",
    "summary_df = pd.DataFrame(summary,\\\n",
    "                     index=None\\\n",
    "                     ,columns=['Number of Unique Items','Average Price'\\\n",
    "                               ,'Number of Purchases','Total Revenue'])\n",
    "summary_df['Average Price'] = g('Average Price',summary_df)\n",
    "summary_df['Average Price'] = f('Average Price',summary_df)\n",
    "\n",
    "summary_df['Total Revenue'] = g('Total Revenue',summary_df)\n",
    "summary_df['Total Revenue'] = f('Total Revenue',summary_df)\n",
    "\n",
    "(summary_df.style\n",
    "    .set_table_styles(styles))"
   ]
  },
  {
   "cell_type": "markdown",
   "metadata": {},
   "source": [
    "## Gender Demographics"
   ]
  },
  {
   "cell_type": "markdown",
   "metadata": {},
   "source": [
    "* Percentage and Count of Male Players\n",
    "\n",
    "\n",
    "* Percentage and Count of Female Players\n",
    "\n",
    "\n",
    "* Percentage and Count of Other / Non-Disclosed\n",
    "\n",
    "\n"
   ]
  },
  {
   "cell_type": "code",
   "execution_count": 4,
   "metadata": {},
   "outputs": [
    {
     "data": {
      "text/html": [
       "<style  type=\"text/css\" >\n",
       "    #T_14c3e9c8_f81f_11e9_a65e_c49ded08efef th {\n",
       "          font-family: Times;\n",
       "          font-size: 14px;\n",
       "          text-align: center;\n",
       "          font-weight: bold;\n",
       "          color: #2F4F4F;\n",
       "          background-color: #F0FFF0;\n",
       "    }    #T_14c3e9c8_f81f_11e9_a65e_c49ded08efef td {\n",
       "          font-family: Times;\n",
       "          font-size: 14px;\n",
       "          text-align: center;\n",
       "          background-color: #F5FFFA;\n",
       "    }</style><table id=\"T_14c3e9c8_f81f_11e9_a65e_c49ded08efef\" ><thead>    <tr>        <th class=\"blank level0\" ></th>        <th class=\"col_heading level0 col0\" >Total Count</th>        <th class=\"col_heading level0 col1\" >Percentage of Players</th>    </tr></thead><tbody>\n",
       "                <tr>\n",
       "                        <th id=\"T_14c3e9c8_f81f_11e9_a65e_c49ded08efeflevel0_row0\" class=\"row_heading level0 row0\" >Male</th>\n",
       "                        <td id=\"T_14c3e9c8_f81f_11e9_a65e_c49ded08efefrow0_col0\" class=\"data row0 col0\" >484</td>\n",
       "                        <td id=\"T_14c3e9c8_f81f_11e9_a65e_c49ded08efefrow0_col1\" class=\"data row0 col1\" >84.03%</td>\n",
       "            </tr>\n",
       "            <tr>\n",
       "                        <th id=\"T_14c3e9c8_f81f_11e9_a65e_c49ded08efeflevel0_row1\" class=\"row_heading level0 row1\" >Female</th>\n",
       "                        <td id=\"T_14c3e9c8_f81f_11e9_a65e_c49ded08efefrow1_col0\" class=\"data row1 col0\" >81</td>\n",
       "                        <td id=\"T_14c3e9c8_f81f_11e9_a65e_c49ded08efefrow1_col1\" class=\"data row1 col1\" >14.06%</td>\n",
       "            </tr>\n",
       "            <tr>\n",
       "                        <th id=\"T_14c3e9c8_f81f_11e9_a65e_c49ded08efeflevel0_row2\" class=\"row_heading level0 row2\" >Other</th>\n",
       "                        <td id=\"T_14c3e9c8_f81f_11e9_a65e_c49ded08efefrow2_col0\" class=\"data row2 col0\" >11</td>\n",
       "                        <td id=\"T_14c3e9c8_f81f_11e9_a65e_c49ded08efefrow2_col1\" class=\"data row2 col1\" >1.91%</td>\n",
       "            </tr>\n",
       "    </tbody></table>"
      ],
      "text/plain": [
       "<pandas.io.formats.style.Styler at 0x209bf7859e8>"
      ]
     },
     "execution_count": 4,
     "metadata": {},
     "output_type": "execute_result"
    }
   ],
   "source": [
    "#slice data into gender\n",
    "male = purchase_data.loc[purchase_data['Gender'] == 'Male']\n",
    "male\n",
    "female = purchase_data.loc[purchase_data['Gender'] == 'Female']\n",
    "female\n",
    "binary = pd.DataFrame(male.merge(female,'outer'))\n",
    "\n",
    "#other_df = purchase_data.loc\n",
    "#remove Male\n",
    "n_m = purchase_data.loc[purchase_data['Gender'] != 'Male']\n",
    "#remove Female\n",
    "other = n_m.loc[purchase_data['Gender'] != 'Female']\n",
    "\n",
    "#Get Unique Male Data Array\n",
    "uni_m = pd.unique(male['SN'])\n",
    "#put Unique count in a DataFrame\n",
    "uni_m_df = pd.DataFrame(uni_m)\n",
    "\n",
    "#get Unique Female Data Array\n",
    "uni_f = pd.unique(female['SN'])\n",
    "#put Unique Female to DataFrame\n",
    "uni_f_df = pd.DataFrame(uni_f)\n",
    "\n",
    "\n",
    "#Get Unique Other Data Array\n",
    "uni_o = pd.unique(other['SN'])\n",
    "uni_o_df = pd.DataFrame(uni_o)\n",
    "\n",
    "#Uniques are in DataFrame (Works but already have number above)\n",
    "f_m = pd.DataFrame(uni_f_df.merge(uni_m_df,'outer'))\n",
    "tot = pd.DataFrame(f_m.merge(uni_o_df,'outer'))\n",
    "\n",
    "\n",
    "#Percentages as each as a decimal\n",
    "\n",
    "male_per = uni_m_df.count() / tot.count()\n",
    "male_per = pd.DataFrame(male_per)\n",
    "\n",
    "female_per = uni_f_df.count() / tot.count()\n",
    "female_per = pd.DataFrame(female_per)\n",
    "\n",
    "other_per = uni_o_df.count() / tot.count()\n",
    "other_per = pd.DataFrame(other_per)\n",
    "counts = [uni_m_df[0].count(), uni_f_df[0].count(), uni_o_df[0].count()]\n",
    "percentages = [male_per[0][0],female_per[0][0],other_per[0][0]]\n",
    "\n",
    "#combined dataframe\n",
    "df = pd.DataFrame(list(zip(counts,percentages)),\\\n",
    "                  index=['Male','Female','Other']\\\n",
    "                  ,columns=[\"Total Count\",'Percentage of Players'])\n",
    "\n",
    "df['Percentage of Players'] = pd.Series([\"{0:.2f}%\".format(val * 100) for val in df['Percentage of Players']], index = df.index)\n",
    "\n",
    "(df.style\n",
    "    .set_table_styles(styles))"
   ]
  },
  {
   "cell_type": "markdown",
   "metadata": {},
   "source": [
    "\n",
    "## Purchasing Analysis (Gender)"
   ]
  },
  {
   "cell_type": "markdown",
   "metadata": {},
   "source": [
    "* Run basic calculations to obtain purchase count, avg. purchase price, avg. purchase total per person etc. by gender\n",
    "\n",
    "\n",
    "\n",
    "\n",
    "* Create a summary data frame to hold the results\n",
    "\n",
    "\n",
    "* Optional: give the displayed data cleaner formatting\n",
    "\n",
    "\n",
    "* Display the summary data frame"
   ]
  },
  {
   "cell_type": "code",
   "execution_count": 5,
   "metadata": {},
   "outputs": [
    {
     "data": {
      "text/html": [
       "<style  type=\"text/css\" >\n",
       "    #T_14cd012c_f81f_11e9_b6ad_c49ded08efef th {\n",
       "          font-family: Times;\n",
       "          font-size: 14px;\n",
       "          text-align: center;\n",
       "          font-weight: bold;\n",
       "          color: #2F4F4F;\n",
       "          background-color: #F0FFF0;\n",
       "    }    #T_14cd012c_f81f_11e9_b6ad_c49ded08efef td {\n",
       "          font-family: Times;\n",
       "          font-size: 14px;\n",
       "          text-align: center;\n",
       "          background-color: #F5FFFA;\n",
       "    }</style><table id=\"T_14cd012c_f81f_11e9_b6ad_c49ded08efef\" ><thead>    <tr>        <th class=\"blank level0\" ></th>        <th class=\"col_heading level0 col0\" >Purchase Count</th>        <th class=\"col_heading level0 col1\" >Average</th>        <th class=\"col_heading level0 col2\" >Total Purchase Value</th>        <th class=\"col_heading level0 col3\" >Avg Total Purchase per Person</th>    </tr></thead><tbody>\n",
       "                <tr>\n",
       "                        <th id=\"T_14cd012c_f81f_11e9_b6ad_c49ded08efeflevel0_row0\" class=\"row_heading level0 row0\" >Male</th>\n",
       "                        <td id=\"T_14cd012c_f81f_11e9_b6ad_c49ded08efefrow0_col0\" class=\"data row0 col0\" >652</td>\n",
       "                        <td id=\"T_14cd012c_f81f_11e9_b6ad_c49ded08efefrow0_col1\" class=\"data row0 col1\" >$1.35</td>\n",
       "                        <td id=\"T_14cd012c_f81f_11e9_b6ad_c49ded08efefrow0_col2\" class=\"data row0 col2\" >$1967.64</td>\n",
       "                        <td id=\"T_14cd012c_f81f_11e9_b6ad_c49ded08efefrow0_col3\" class=\"data row0 col3\" >$4.07</td>\n",
       "            </tr>\n",
       "            <tr>\n",
       "                        <th id=\"T_14cd012c_f81f_11e9_b6ad_c49ded08efeflevel0_row1\" class=\"row_heading level0 row1\" >Female</th>\n",
       "                        <td id=\"T_14cd012c_f81f_11e9_b6ad_c49ded08efefrow1_col0\" class=\"data row1 col0\" >113</td>\n",
       "                        <td id=\"T_14cd012c_f81f_11e9_b6ad_c49ded08efefrow1_col1\" class=\"data row1 col1\" >$1.40</td>\n",
       "                        <td id=\"T_14cd012c_f81f_11e9_b6ad_c49ded08efefrow1_col2\" class=\"data row1 col2\" >$361.94</td>\n",
       "                        <td id=\"T_14cd012c_f81f_11e9_b6ad_c49ded08efefrow1_col3\" class=\"data row1 col3\" >$4.47</td>\n",
       "            </tr>\n",
       "            <tr>\n",
       "                        <th id=\"T_14cd012c_f81f_11e9_b6ad_c49ded08efeflevel0_row2\" class=\"row_heading level0 row2\" >Other</th>\n",
       "                        <td id=\"T_14cd012c_f81f_11e9_b6ad_c49ded08efefrow2_col0\" class=\"data row2 col0\" >15</td>\n",
       "                        <td id=\"T_14cd012c_f81f_11e9_b6ad_c49ded08efefrow2_col1\" class=\"data row2 col1\" >$1.36</td>\n",
       "                        <td id=\"T_14cd012c_f81f_11e9_b6ad_c49ded08efefrow2_col2\" class=\"data row2 col2\" >$50.19</td>\n",
       "                        <td id=\"T_14cd012c_f81f_11e9_b6ad_c49ded08efefrow2_col3\" class=\"data row2 col3\" >$4.56</td>\n",
       "            </tr>\n",
       "    </tbody></table>"
      ],
      "text/plain": [
       "<pandas.io.formats.style.Styler at 0x209bf7afa20>"
      ]
     },
     "execution_count": 5,
     "metadata": {},
     "output_type": "execute_result"
    }
   ],
   "source": [
    "#total male purchases\n",
    "m_c = male.count()\n",
    "#total female purchases\n",
    "f_c = female.count()\n",
    "#total other purchases\n",
    "o_c = other.count()\n",
    "pur_l = [m_c[0], f_c[0], o_c[0]]\n",
    "\n",
    "#average number of purchases - male\n",
    "avg_m = m_c['SN'] / uni_m_df.count()\n",
    "#average number of purchases - female\n",
    "avg_f = f_c['SN'] / uni_f_df.count()\n",
    "#average number of purchases - other\n",
    "avg_o = o_c['SN'] / uni_o_df.count()\n",
    "avg_l = [avg_m[0], avg_f[0], avg_o[0]]\n",
    "\n",
    "#total purchase value\n",
    "tot_m = male['Price'].sum()\n",
    "tot_f = female['Price'].sum()\n",
    "tot_o = other['Price'].sum()\n",
    "tot_l = [tot_m, tot_f, tot_o]\n",
    "\n",
    "#avg total purchase per person\n",
    "avg_t_m = tot_m / uni_m_df.count()\n",
    "avg_t_f = tot_f / uni_f_df.count()\n",
    "avg_t_o = tot_o / uni_o_df.count()\n",
    "avg_t_l = [avg_t_m[0], avg_t_f[0], avg_t_o[0]]\n",
    "\n",
    "gen_df = pd.DataFrame(list(zip(pur_l,avg_l, tot_l, avg_t_l)),\\\n",
    "                     index=['Male','Female','Other']\\\n",
    "                     ,columns=['Purchase Count','Average', 'Total Purchase Value', 'Avg Total Purchase per Person'])\n",
    "gen_df['Average'] = f('Average',gen_df)\n",
    "gen_df['Total Purchase Value'] = f('Total Purchase Value',gen_df)\n",
    "gen_df['Avg Total Purchase per Person'] = f('Avg Total Purchase per Person',gen_df)\n",
    "\n",
    "(gen_df.style\n",
    "    .set_table_styles(styles))"
   ]
  },
  {
   "cell_type": "markdown",
   "metadata": {},
   "source": [
    "\n",
    "## Age Demographics"
   ]
  },
  {
   "cell_type": "markdown",
   "metadata": {},
   "source": [
    "* Establish bins for ages\n",
    "\n",
    "\n",
    "* Categorize the existing players using the age bins. Hint: use pd.cut()\n",
    "\n",
    "\n",
    "* Calculate the numbers and percentages by age group\n",
    "\n",
    "\n",
    "* Create a summary data frame to hold the results\n",
    "\n",
    "\n",
    "* Optional: round the percentage column to two decimal points\n",
    "\n",
    "\n",
    "* Display Age Demographics Table\n"
   ]
  },
  {
   "cell_type": "code",
   "execution_count": 6,
   "metadata": {},
   "outputs": [
    {
     "data": {
      "text/html": [
       "<style  type=\"text/css\" >\n",
       "    #T_1585e04a_f81f_11e9_8b83_c49ded08efef th {\n",
       "          font-family: Times;\n",
       "          font-size: 14px;\n",
       "          text-align: center;\n",
       "          font-weight: bold;\n",
       "          color: #2F4F4F;\n",
       "          background-color: #F0FFF0;\n",
       "    }    #T_1585e04a_f81f_11e9_8b83_c49ded08efef td {\n",
       "          font-family: Times;\n",
       "          font-size: 14px;\n",
       "          text-align: center;\n",
       "          background-color: #F5FFFA;\n",
       "    }</style><table id=\"T_1585e04a_f81f_11e9_8b83_c49ded08efef\" ><thead>    <tr>        <th class=\"blank level0\" ></th>        <th class=\"col_heading level0 col0\" >Total Count</th>        <th class=\"col_heading level0 col1\" >Percentage of Players</th>    </tr></thead><tbody>\n",
       "                <tr>\n",
       "                        <th id=\"T_1585e04a_f81f_11e9_8b83_c49ded08efeflevel0_row0\" class=\"row_heading level0 row0\" ><10</th>\n",
       "                        <td id=\"T_1585e04a_f81f_11e9_8b83_c49ded08efefrow0_col0\" class=\"data row0 col0\" >17</td>\n",
       "                        <td id=\"T_1585e04a_f81f_11e9_8b83_c49ded08efefrow0_col1\" class=\"data row0 col1\" >2.95%</td>\n",
       "            </tr>\n",
       "            <tr>\n",
       "                        <th id=\"T_1585e04a_f81f_11e9_8b83_c49ded08efeflevel0_row1\" class=\"row_heading level0 row1\" >10-14</th>\n",
       "                        <td id=\"T_1585e04a_f81f_11e9_8b83_c49ded08efefrow1_col0\" class=\"data row1 col0\" >22</td>\n",
       "                        <td id=\"T_1585e04a_f81f_11e9_8b83_c49ded08efefrow1_col1\" class=\"data row1 col1\" >3.82%</td>\n",
       "            </tr>\n",
       "            <tr>\n",
       "                        <th id=\"T_1585e04a_f81f_11e9_8b83_c49ded08efeflevel0_row2\" class=\"row_heading level0 row2\" >15-19</th>\n",
       "                        <td id=\"T_1585e04a_f81f_11e9_8b83_c49ded08efefrow2_col0\" class=\"data row2 col0\" >107</td>\n",
       "                        <td id=\"T_1585e04a_f81f_11e9_8b83_c49ded08efefrow2_col1\" class=\"data row2 col1\" >18.58%</td>\n",
       "            </tr>\n",
       "            <tr>\n",
       "                        <th id=\"T_1585e04a_f81f_11e9_8b83_c49ded08efeflevel0_row3\" class=\"row_heading level0 row3\" >20-24</th>\n",
       "                        <td id=\"T_1585e04a_f81f_11e9_8b83_c49ded08efefrow3_col0\" class=\"data row3 col0\" >258</td>\n",
       "                        <td id=\"T_1585e04a_f81f_11e9_8b83_c49ded08efefrow3_col1\" class=\"data row3 col1\" >44.79%</td>\n",
       "            </tr>\n",
       "            <tr>\n",
       "                        <th id=\"T_1585e04a_f81f_11e9_8b83_c49ded08efeflevel0_row4\" class=\"row_heading level0 row4\" >25-29</th>\n",
       "                        <td id=\"T_1585e04a_f81f_11e9_8b83_c49ded08efefrow4_col0\" class=\"data row4 col0\" >77</td>\n",
       "                        <td id=\"T_1585e04a_f81f_11e9_8b83_c49ded08efefrow4_col1\" class=\"data row4 col1\" >13.37%</td>\n",
       "            </tr>\n",
       "            <tr>\n",
       "                        <th id=\"T_1585e04a_f81f_11e9_8b83_c49ded08efeflevel0_row5\" class=\"row_heading level0 row5\" >30-34</th>\n",
       "                        <td id=\"T_1585e04a_f81f_11e9_8b83_c49ded08efefrow5_col0\" class=\"data row5 col0\" >52</td>\n",
       "                        <td id=\"T_1585e04a_f81f_11e9_8b83_c49ded08efefrow5_col1\" class=\"data row5 col1\" >9.03%</td>\n",
       "            </tr>\n",
       "            <tr>\n",
       "                        <th id=\"T_1585e04a_f81f_11e9_8b83_c49ded08efeflevel0_row6\" class=\"row_heading level0 row6\" >35-39</th>\n",
       "                        <td id=\"T_1585e04a_f81f_11e9_8b83_c49ded08efefrow6_col0\" class=\"data row6 col0\" >31</td>\n",
       "                        <td id=\"T_1585e04a_f81f_11e9_8b83_c49ded08efefrow6_col1\" class=\"data row6 col1\" >5.38%</td>\n",
       "            </tr>\n",
       "            <tr>\n",
       "                        <th id=\"T_1585e04a_f81f_11e9_8b83_c49ded08efeflevel0_row7\" class=\"row_heading level0 row7\" >40+</th>\n",
       "                        <td id=\"T_1585e04a_f81f_11e9_8b83_c49ded08efefrow7_col0\" class=\"data row7 col0\" >12</td>\n",
       "                        <td id=\"T_1585e04a_f81f_11e9_8b83_c49ded08efefrow7_col1\" class=\"data row7 col1\" >2.08%</td>\n",
       "            </tr>\n",
       "    </tbody></table>"
      ],
      "text/plain": [
       "<pandas.io.formats.style.Styler at 0x209bf7af940>"
      ]
     },
     "execution_count": 6,
     "metadata": {},
     "output_type": "execute_result"
    }
   ],
   "source": [
    "purchase_data['Age'] = purchase_data['Age'].astype(float)\n",
    "b = [0,9.9,14.9,19.9,24.9,29.9,34.9, 39.90,100]\n",
    "cut_df = pd.cut(purchase_data['Age'], b)\n",
    "cut_df = pd.DataFrame(cut_df)\n",
    "b_df = pd.DataFrame(list(zip(cut_df['Age'],purchase_data['SN'])),columns=['Age','SN'])\n",
    "b_df = b_df.groupby(['Age'])['SN'].nunique()\n",
    "b_df\n",
    "\n",
    "sep = pd.DataFrame(b_df,columns=['SN'])\n",
    "sep_per = pd.Series(val / tot.count() for val in sep['SN'])\n",
    "sep_per\n",
    "new = pd.DataFrame(list(zip(sep['SN'],sep_per)),index=sep.index, columns=['Total Count','Percentage of Players'])\n",
    "new['Percentage of Players'] = (100 * new['Percentage of Players']).astype(float)\n",
    "new['Percentage of Players'] = h('Percentage of Players',new)\n",
    "ind_lab = ['<10', '10-14', '15-19', '20-24', '25-29', '30-34', '35-39', '40+']\n",
    "new.index = ind_lab\n",
    "\n",
    "(new.style\n",
    "    .set_table_styles(styles))"
   ]
  },
  {
   "cell_type": "markdown",
   "metadata": {},
   "source": [
    "## Purchasing Analysis (Age)"
   ]
  },
  {
   "cell_type": "markdown",
   "metadata": {},
   "source": [
    "* Bin the purchase_data data frame by age\n",
    "\n",
    "\n",
    "* Run basic calculations to obtain purchase count, avg. purchase price, avg. purchase total per person etc. in the table below\n",
    "\n",
    "\n",
    "* Create a summary data frame to hold the results\n",
    "\n",
    "\n",
    "* Optional: give the displayed data cleaner formatting\n",
    "\n",
    "\n",
    "* Display the summary data frame"
   ]
  },
  {
   "cell_type": "code",
   "execution_count": 7,
   "metadata": {},
   "outputs": [
    {
     "data": {
      "text/html": [
       "<style  type=\"text/css\" >\n",
       "    #T_168c415a_f81f_11e9_898c_c49ded08efef th {\n",
       "          font-family: Times;\n",
       "          font-size: 14px;\n",
       "          text-align: center;\n",
       "          font-weight: bold;\n",
       "          color: #2F4F4F;\n",
       "          background-color: #F0FFF0;\n",
       "    }    #T_168c415a_f81f_11e9_898c_c49ded08efef td {\n",
       "          font-family: Times;\n",
       "          font-size: 14px;\n",
       "          text-align: center;\n",
       "          background-color: #F5FFFA;\n",
       "    }</style><table id=\"T_168c415a_f81f_11e9_898c_c49ded08efef\" ><thead>    <tr>        <th class=\"blank level0\" ></th>        <th class=\"col_heading level0 col0\" >Purchase Count</th>        <th class=\"col_heading level0 col1\" >Average Purchase Price</th>        <th class=\"col_heading level0 col2\" >Total Purchase Value</th>        <th class=\"col_heading level0 col3\" >Avg Total Purchase per Person</th>    </tr>    <tr>        <th class=\"index_name level0\" >Age Ranges</th>        <th class=\"blank\" ></th>        <th class=\"blank\" ></th>        <th class=\"blank\" ></th>        <th class=\"blank\" ></th>    </tr></thead><tbody>\n",
       "                <tr>\n",
       "                        <th id=\"T_168c415a_f81f_11e9_898c_c49ded08efeflevel0_row0\" class=\"row_heading level0 row0\" ><10</th>\n",
       "                        <td id=\"T_168c415a_f81f_11e9_898c_c49ded08efefrow0_col0\" class=\"data row0 col0\" >23</td>\n",
       "                        <td id=\"T_168c415a_f81f_11e9_898c_c49ded08efefrow0_col1\" class=\"data row0 col1\" >$3.35</td>\n",
       "                        <td id=\"T_168c415a_f81f_11e9_898c_c49ded08efefrow0_col2\" class=\"data row0 col2\" >$77.13</td>\n",
       "                        <td id=\"T_168c415a_f81f_11e9_898c_c49ded08efefrow0_col3\" class=\"data row0 col3\" >$4.54</td>\n",
       "            </tr>\n",
       "            <tr>\n",
       "                        <th id=\"T_168c415a_f81f_11e9_898c_c49ded08efeflevel0_row1\" class=\"row_heading level0 row1\" >10-14</th>\n",
       "                        <td id=\"T_168c415a_f81f_11e9_898c_c49ded08efefrow1_col0\" class=\"data row1 col0\" >28</td>\n",
       "                        <td id=\"T_168c415a_f81f_11e9_898c_c49ded08efefrow1_col1\" class=\"data row1 col1\" >$2.96</td>\n",
       "                        <td id=\"T_168c415a_f81f_11e9_898c_c49ded08efefrow1_col2\" class=\"data row1 col2\" >$82.78</td>\n",
       "                        <td id=\"T_168c415a_f81f_11e9_898c_c49ded08efefrow1_col3\" class=\"data row1 col3\" >$3.76</td>\n",
       "            </tr>\n",
       "            <tr>\n",
       "                        <th id=\"T_168c415a_f81f_11e9_898c_c49ded08efeflevel0_row2\" class=\"row_heading level0 row2\" >15-19</th>\n",
       "                        <td id=\"T_168c415a_f81f_11e9_898c_c49ded08efefrow2_col0\" class=\"data row2 col0\" >136</td>\n",
       "                        <td id=\"T_168c415a_f81f_11e9_898c_c49ded08efefrow2_col1\" class=\"data row2 col1\" >$3.04</td>\n",
       "                        <td id=\"T_168c415a_f81f_11e9_898c_c49ded08efefrow2_col2\" class=\"data row2 col2\" >$412.89</td>\n",
       "                        <td id=\"T_168c415a_f81f_11e9_898c_c49ded08efefrow2_col3\" class=\"data row2 col3\" >$3.86</td>\n",
       "            </tr>\n",
       "            <tr>\n",
       "                        <th id=\"T_168c415a_f81f_11e9_898c_c49ded08efeflevel0_row3\" class=\"row_heading level0 row3\" >20-24</th>\n",
       "                        <td id=\"T_168c415a_f81f_11e9_898c_c49ded08efefrow3_col0\" class=\"data row3 col0\" >365</td>\n",
       "                        <td id=\"T_168c415a_f81f_11e9_898c_c49ded08efefrow3_col1\" class=\"data row3 col1\" >$3.05</td>\n",
       "                        <td id=\"T_168c415a_f81f_11e9_898c_c49ded08efefrow3_col2\" class=\"data row3 col2\" >$1114.06</td>\n",
       "                        <td id=\"T_168c415a_f81f_11e9_898c_c49ded08efefrow3_col3\" class=\"data row3 col3\" >$4.32</td>\n",
       "            </tr>\n",
       "            <tr>\n",
       "                        <th id=\"T_168c415a_f81f_11e9_898c_c49ded08efeflevel0_row4\" class=\"row_heading level0 row4\" >25-29</th>\n",
       "                        <td id=\"T_168c415a_f81f_11e9_898c_c49ded08efefrow4_col0\" class=\"data row4 col0\" >101</td>\n",
       "                        <td id=\"T_168c415a_f81f_11e9_898c_c49ded08efefrow4_col1\" class=\"data row4 col1\" >$2.90</td>\n",
       "                        <td id=\"T_168c415a_f81f_11e9_898c_c49ded08efefrow4_col2\" class=\"data row4 col2\" >$293.00</td>\n",
       "                        <td id=\"T_168c415a_f81f_11e9_898c_c49ded08efefrow4_col3\" class=\"data row4 col3\" >$3.81</td>\n",
       "            </tr>\n",
       "            <tr>\n",
       "                        <th id=\"T_168c415a_f81f_11e9_898c_c49ded08efeflevel0_row5\" class=\"row_heading level0 row5\" >30-34</th>\n",
       "                        <td id=\"T_168c415a_f81f_11e9_898c_c49ded08efefrow5_col0\" class=\"data row5 col0\" >73</td>\n",
       "                        <td id=\"T_168c415a_f81f_11e9_898c_c49ded08efefrow5_col1\" class=\"data row5 col1\" >$2.93</td>\n",
       "                        <td id=\"T_168c415a_f81f_11e9_898c_c49ded08efefrow5_col2\" class=\"data row5 col2\" >$214.00</td>\n",
       "                        <td id=\"T_168c415a_f81f_11e9_898c_c49ded08efefrow5_col3\" class=\"data row5 col3\" >$4.12</td>\n",
       "            </tr>\n",
       "            <tr>\n",
       "                        <th id=\"T_168c415a_f81f_11e9_898c_c49ded08efeflevel0_row6\" class=\"row_heading level0 row6\" >35-39</th>\n",
       "                        <td id=\"T_168c415a_f81f_11e9_898c_c49ded08efefrow6_col0\" class=\"data row6 col0\" >41</td>\n",
       "                        <td id=\"T_168c415a_f81f_11e9_898c_c49ded08efefrow6_col1\" class=\"data row6 col1\" >$3.60</td>\n",
       "                        <td id=\"T_168c415a_f81f_11e9_898c_c49ded08efefrow6_col2\" class=\"data row6 col2\" >$147.67</td>\n",
       "                        <td id=\"T_168c415a_f81f_11e9_898c_c49ded08efefrow6_col3\" class=\"data row6 col3\" >$4.76</td>\n",
       "            </tr>\n",
       "            <tr>\n",
       "                        <th id=\"T_168c415a_f81f_11e9_898c_c49ded08efeflevel0_row7\" class=\"row_heading level0 row7\" >40+</th>\n",
       "                        <td id=\"T_168c415a_f81f_11e9_898c_c49ded08efefrow7_col0\" class=\"data row7 col0\" >13</td>\n",
       "                        <td id=\"T_168c415a_f81f_11e9_898c_c49ded08efefrow7_col1\" class=\"data row7 col1\" >$2.94</td>\n",
       "                        <td id=\"T_168c415a_f81f_11e9_898c_c49ded08efefrow7_col2\" class=\"data row7 col2\" >$38.24</td>\n",
       "                        <td id=\"T_168c415a_f81f_11e9_898c_c49ded08efefrow7_col3\" class=\"data row7 col3\" >$3.19</td>\n",
       "            </tr>\n",
       "    </tbody></table>"
      ],
      "text/plain": [
       "<pandas.io.formats.style.Styler at 0x209bf774d68>"
      ]
     },
     "execution_count": 7,
     "metadata": {},
     "output_type": "execute_result"
    }
   ],
   "source": [
    "cut_df.columns = ['Bins']\n",
    "pur_df = pd.DataFrame.join(cut_df, purchase_data)\n",
    "pur_sum = pur_df.groupby('Bins').sum()\n",
    "pur_uni = pur_df.groupby('Bins').count()\n",
    "\n",
    "avg_pp = pur_sum['Price'] / pur_uni['SN']\n",
    "tot_pp = pur_sum['Price'] / b_df\n",
    "\n",
    "\n",
    "\n",
    "end_df = pd.DataFrame(list(zip(pur_uni['SN'],avg_pp,pur_sum['Price'],tot_pp)),index=pur_uni.index,\\\n",
    "                     columns=['Purchase Count','Average Purchase Price','Total Purchase Value','Avg Total Purchase per Person'])\n",
    "end_df.index = ind_lab\n",
    "end_df =end_df.rename_axis('Age Ranges')\n",
    "end_df['Avg Total Purchase per Person'] = f('Avg Total Purchase per Person',end_df)\n",
    "end_df['Average Purchase Price'] = f('Average Purchase Price',end_df)\n",
    "end_df['Total Purchase Value'] = f('Total Purchase Value',end_df)\n",
    "\n",
    "(end_df.style\n",
    "    .set_table_styles(styles))"
   ]
  },
  {
   "cell_type": "markdown",
   "metadata": {},
   "source": [
    "## Top Spenders"
   ]
  },
  {
   "cell_type": "markdown",
   "metadata": {},
   "source": [
    "* Run basic calculations to obtain the results in the table below\n",
    "\n",
    "\n",
    "* Create a summary data frame to hold the results\n",
    "\n",
    "\n",
    "* Sort the total purchase value column in descending order\n",
    "\n",
    "\n",
    "* Optional: give the displayed data cleaner formatting\n",
    "\n",
    "\n",
    "* Display a preview of the summary data frame\n",
    "\n"
   ]
  },
  {
   "cell_type": "code",
   "execution_count": 8,
   "metadata": {},
   "outputs": [
    {
     "data": {
      "text/html": [
       "<style  type=\"text/css\" >\n",
       "    #T_177a904c_f81f_11e9_a6de_c49ded08efef th {\n",
       "          font-family: Times;\n",
       "          font-size: 14px;\n",
       "          text-align: center;\n",
       "          font-weight: bold;\n",
       "          color: #2F4F4F;\n",
       "          background-color: #F0FFF0;\n",
       "    }    #T_177a904c_f81f_11e9_a6de_c49ded08efef td {\n",
       "          font-family: Times;\n",
       "          font-size: 14px;\n",
       "          text-align: center;\n",
       "          background-color: #F5FFFA;\n",
       "    }</style><table id=\"T_177a904c_f81f_11e9_a6de_c49ded08efef\" ><thead>    <tr>        <th class=\"blank level0\" ></th>        <th class=\"col_heading level0 col0\" >Purchase Count</th>        <th class=\"col_heading level0 col1\" >Average Purchase Price</th>        <th class=\"col_heading level0 col2\" >Total Purchase Value</th>    </tr>    <tr>        <th class=\"index_name level0\" >SN</th>        <th class=\"blank\" ></th>        <th class=\"blank\" ></th>        <th class=\"blank\" ></th>    </tr></thead><tbody>\n",
       "                <tr>\n",
       "                        <th id=\"T_177a904c_f81f_11e9_a6de_c49ded08efeflevel0_row0\" class=\"row_heading level0 row0\" >Lisosia93</th>\n",
       "                        <td id=\"T_177a904c_f81f_11e9_a6de_c49ded08efefrow0_col0\" class=\"data row0 col0\" >5</td>\n",
       "                        <td id=\"T_177a904c_f81f_11e9_a6de_c49ded08efefrow0_col1\" class=\"data row0 col1\" >$3.79</td>\n",
       "                        <td id=\"T_177a904c_f81f_11e9_a6de_c49ded08efefrow0_col2\" class=\"data row0 col2\" >$18.96</td>\n",
       "            </tr>\n",
       "            <tr>\n",
       "                        <th id=\"T_177a904c_f81f_11e9_a6de_c49ded08efeflevel0_row1\" class=\"row_heading level0 row1\" >Idastidru52</th>\n",
       "                        <td id=\"T_177a904c_f81f_11e9_a6de_c49ded08efefrow1_col0\" class=\"data row1 col0\" >4</td>\n",
       "                        <td id=\"T_177a904c_f81f_11e9_a6de_c49ded08efefrow1_col1\" class=\"data row1 col1\" >$3.86</td>\n",
       "                        <td id=\"T_177a904c_f81f_11e9_a6de_c49ded08efefrow1_col2\" class=\"data row1 col2\" >$15.45</td>\n",
       "            </tr>\n",
       "            <tr>\n",
       "                        <th id=\"T_177a904c_f81f_11e9_a6de_c49ded08efeflevel0_row2\" class=\"row_heading level0 row2\" >Chamjask73</th>\n",
       "                        <td id=\"T_177a904c_f81f_11e9_a6de_c49ded08efefrow2_col0\" class=\"data row2 col0\" >3</td>\n",
       "                        <td id=\"T_177a904c_f81f_11e9_a6de_c49ded08efefrow2_col1\" class=\"data row2 col1\" >$4.61</td>\n",
       "                        <td id=\"T_177a904c_f81f_11e9_a6de_c49ded08efefrow2_col2\" class=\"data row2 col2\" >$13.83</td>\n",
       "            </tr>\n",
       "            <tr>\n",
       "                        <th id=\"T_177a904c_f81f_11e9_a6de_c49ded08efeflevel0_row3\" class=\"row_heading level0 row3\" >Iral74</th>\n",
       "                        <td id=\"T_177a904c_f81f_11e9_a6de_c49ded08efefrow3_col0\" class=\"data row3 col0\" >4</td>\n",
       "                        <td id=\"T_177a904c_f81f_11e9_a6de_c49ded08efefrow3_col1\" class=\"data row3 col1\" >$3.40</td>\n",
       "                        <td id=\"T_177a904c_f81f_11e9_a6de_c49ded08efefrow3_col2\" class=\"data row3 col2\" >$13.62</td>\n",
       "            </tr>\n",
       "            <tr>\n",
       "                        <th id=\"T_177a904c_f81f_11e9_a6de_c49ded08efeflevel0_row4\" class=\"row_heading level0 row4\" >Iskadarya95</th>\n",
       "                        <td id=\"T_177a904c_f81f_11e9_a6de_c49ded08efefrow4_col0\" class=\"data row4 col0\" >3</td>\n",
       "                        <td id=\"T_177a904c_f81f_11e9_a6de_c49ded08efefrow4_col1\" class=\"data row4 col1\" >$4.37</td>\n",
       "                        <td id=\"T_177a904c_f81f_11e9_a6de_c49ded08efefrow4_col2\" class=\"data row4 col2\" >$13.10</td>\n",
       "            </tr>\n",
       "    </tbody></table>"
      ],
      "text/plain": [
       "<pandas.io.formats.style.Styler at 0x209bf774080>"
      ]
     },
     "execution_count": 8,
     "metadata": {},
     "output_type": "execute_result"
    }
   ],
   "source": [
    "user_total = purchase_data.groupby('SN')['Price'].sum()\n",
    "user_count = purchase_data.groupby('SN')['Price'].count()\n",
    "user_app = user_total / user_count\n",
    "pdf = pd.DataFrame(list(zip(user_count, user_app, user_total)),index=user_count.index\\\n",
    "                  ,columns=['Purchase Count','Average Purchase Price','Total Purchase Value'])\n",
    "pdf = pdf.sort_values(by='Total Purchase Value',ascending=False)\n",
    "pdf['Average Purchase Price'] = f('Average Purchase Price',pdf)\n",
    "pdf['Total Purchase Value'] = f('Total Purchase Value',pdf)\n",
    "\n",
    "(pdf.head().style\n",
    "    .set_table_styles(styles))\n"
   ]
  },
  {
   "cell_type": "markdown",
   "metadata": {},
   "source": [
    "## Most Popular Items"
   ]
  },
  {
   "cell_type": "markdown",
   "metadata": {},
   "source": [
    "* Retrieve the Item ID, Item Name, and Item Price columns\n",
    "\n",
    "\n",
    "* Group by Item ID and Item Name. Perform calculations to obtain purchase count, item price, and total purchase value\n",
    "\n",
    "\n",
    "* Create a summary data frame to hold the results\n",
    "\n",
    "\n",
    "* Sort the purchase count column in descending order\n",
    "\n",
    "\n",
    "* Optional: give the displayed data cleaner formatting\n",
    "\n",
    "\n",
    "* Display a preview of the summary data frame\n",
    "\n"
   ]
  },
  {
   "cell_type": "code",
   "execution_count": 9,
   "metadata": {},
   "outputs": [
    {
     "data": {
      "text/html": [
       "<style  type=\"text/css\" >\n",
       "    #T_19566a0c_f81f_11e9_8ed9_c49ded08efef th {\n",
       "          font-family: Times;\n",
       "          font-size: 14px;\n",
       "          text-align: center;\n",
       "          font-weight: bold;\n",
       "          color: #2F4F4F;\n",
       "          background-color: #F0FFF0;\n",
       "    }    #T_19566a0c_f81f_11e9_8ed9_c49ded08efef td {\n",
       "          font-family: Times;\n",
       "          font-size: 14px;\n",
       "          text-align: center;\n",
       "          background-color: #F5FFFA;\n",
       "    }</style><table id=\"T_19566a0c_f81f_11e9_8ed9_c49ded08efef\" ><thead>    <tr>        <th class=\"blank\" ></th>        <th class=\"blank level0\" ></th>        <th class=\"col_heading level0 col0\" >Purchase Count</th>        <th class=\"col_heading level0 col1\" >Item Price</th>        <th class=\"col_heading level0 col2\" >Total Purchase Value</th>    </tr>    <tr>        <th class=\"index_name level0\" >Item ID</th>        <th class=\"index_name level1\" >Item Name</th>        <th class=\"blank\" ></th>        <th class=\"blank\" ></th>        <th class=\"blank\" ></th>    </tr></thead><tbody>\n",
       "                <tr>\n",
       "                        <th id=\"T_19566a0c_f81f_11e9_8ed9_c49ded08efeflevel0_row0\" class=\"row_heading level0 row0\" >178</th>\n",
       "                        <th id=\"T_19566a0c_f81f_11e9_8ed9_c49ded08efeflevel1_row0\" class=\"row_heading level1 row0\" >Oathbreaker, Last Hope of the Breaking Storm</th>\n",
       "                        <td id=\"T_19566a0c_f81f_11e9_8ed9_c49ded08efefrow0_col0\" class=\"data row0 col0\" >12</td>\n",
       "                        <td id=\"T_19566a0c_f81f_11e9_8ed9_c49ded08efefrow0_col1\" class=\"data row0 col1\" >$4.23</td>\n",
       "                        <td id=\"T_19566a0c_f81f_11e9_8ed9_c49ded08efefrow0_col2\" class=\"data row0 col2\" >$50.76</td>\n",
       "            </tr>\n",
       "            <tr>\n",
       "                        <th id=\"T_19566a0c_f81f_11e9_8ed9_c49ded08efeflevel0_row1\" class=\"row_heading level0 row1\" >145</th>\n",
       "                        <th id=\"T_19566a0c_f81f_11e9_8ed9_c49ded08efeflevel1_row1\" class=\"row_heading level1 row1\" >Fiery Glass Crusader</th>\n",
       "                        <td id=\"T_19566a0c_f81f_11e9_8ed9_c49ded08efefrow1_col0\" class=\"data row1 col0\" >9</td>\n",
       "                        <td id=\"T_19566a0c_f81f_11e9_8ed9_c49ded08efefrow1_col1\" class=\"data row1 col1\" >$4.58</td>\n",
       "                        <td id=\"T_19566a0c_f81f_11e9_8ed9_c49ded08efefrow1_col2\" class=\"data row1 col2\" >$41.22</td>\n",
       "            </tr>\n",
       "            <tr>\n",
       "                        <th id=\"T_19566a0c_f81f_11e9_8ed9_c49ded08efeflevel0_row2\" class=\"row_heading level0 row2\" >108</th>\n",
       "                        <th id=\"T_19566a0c_f81f_11e9_8ed9_c49ded08efeflevel1_row2\" class=\"row_heading level1 row2\" >Extraction, Quickblade Of Trembling Hands</th>\n",
       "                        <td id=\"T_19566a0c_f81f_11e9_8ed9_c49ded08efefrow2_col0\" class=\"data row2 col0\" >9</td>\n",
       "                        <td id=\"T_19566a0c_f81f_11e9_8ed9_c49ded08efefrow2_col1\" class=\"data row2 col1\" >$3.53</td>\n",
       "                        <td id=\"T_19566a0c_f81f_11e9_8ed9_c49ded08efefrow2_col2\" class=\"data row2 col2\" >$31.77</td>\n",
       "            </tr>\n",
       "            <tr>\n",
       "                        <th id=\"T_19566a0c_f81f_11e9_8ed9_c49ded08efeflevel0_row3\" class=\"row_heading level0 row3\" >82</th>\n",
       "                        <th id=\"T_19566a0c_f81f_11e9_8ed9_c49ded08efeflevel1_row3\" class=\"row_heading level1 row3\" >Nirvana</th>\n",
       "                        <td id=\"T_19566a0c_f81f_11e9_8ed9_c49ded08efefrow3_col0\" class=\"data row3 col0\" >9</td>\n",
       "                        <td id=\"T_19566a0c_f81f_11e9_8ed9_c49ded08efefrow3_col1\" class=\"data row3 col1\" >$4.90</td>\n",
       "                        <td id=\"T_19566a0c_f81f_11e9_8ed9_c49ded08efefrow3_col2\" class=\"data row3 col2\" >$44.10</td>\n",
       "            </tr>\n",
       "            <tr>\n",
       "                        <th id=\"T_19566a0c_f81f_11e9_8ed9_c49ded08efeflevel0_row4\" class=\"row_heading level0 row4\" >19</th>\n",
       "                        <th id=\"T_19566a0c_f81f_11e9_8ed9_c49ded08efeflevel1_row4\" class=\"row_heading level1 row4\" >Pursuit, Cudgel of Necromancy</th>\n",
       "                        <td id=\"T_19566a0c_f81f_11e9_8ed9_c49ded08efefrow4_col0\" class=\"data row4 col0\" >8</td>\n",
       "                        <td id=\"T_19566a0c_f81f_11e9_8ed9_c49ded08efefrow4_col1\" class=\"data row4 col1\" >$1.02</td>\n",
       "                        <td id=\"T_19566a0c_f81f_11e9_8ed9_c49ded08efefrow4_col2\" class=\"data row4 col2\" >$8.16</td>\n",
       "            </tr>\n",
       "    </tbody></table>"
      ],
      "text/plain": [
       "<pandas.io.formats.style.Styler at 0x209bf80a908>"
      ]
     },
     "execution_count": 9,
     "metadata": {},
     "output_type": "execute_result"
    }
   ],
   "source": [
    "purchase_data\n",
    "item_value = purchase_data.groupby('Item ID')['Price'].sum()\n",
    "item_count = purchase_data.groupby('Item ID')['Price'].count()\n",
    "item_price = purchase_data.groupby('Item ID')['Price'].unique()\n",
    "item_price = [i[0] for i in item_price.values.tolist()]\n",
    "item_name = purchase_data.groupby('Item ID')['Item Name'].unique()\n",
    "item_name = [i[0] for i in item_name.values.tolist()]\n",
    "item_sum = pd.DataFrame(list(zip(item_count,item_price,item_value)),index=[item_value.index,item_name]\\\n",
    "                       ,columns=['Purchase Count','Item Price','Total Purchase Value'])\n",
    "item_sum = item_sum.sort_values(['Purchase Count'], ascending=[False], inplace=False)\n",
    "item_sum = item_sum.rename_axis(['Item ID','Item Name'])\n",
    "item_sum['Item Price'] = f('Item Price',item_sum)\n",
    "item_sum['Total Purchase Value'] = f('Total Purchase Value',item_sum)\n",
    "\n",
    "(item_sum.head().style\n",
    "    .set_table_styles(styles))"
   ]
  },
  {
   "cell_type": "markdown",
   "metadata": {},
   "source": [
    "## Most Profitable Items"
   ]
  },
  {
   "cell_type": "markdown",
   "metadata": {},
   "source": [
    "* Sort the above table by total purchase value in descending order\n",
    "\n",
    "\n",
    "* Optional: give the displayed data cleaner formatting\n",
    "\n",
    "\n",
    "* Display a preview of the data frame\n",
    "\n"
   ]
  },
  {
   "cell_type": "code",
   "execution_count": 10,
   "metadata": {
    "scrolled": true
   },
   "outputs": [
    {
     "data": {
      "text/html": [
       "<style  type=\"text/css\" >\n",
       "    #T_1a2bcaba_f81f_11e9_a687_c49ded08efef th {\n",
       "          font-family: Times;\n",
       "          font-size: 14px;\n",
       "          text-align: center;\n",
       "          font-weight: bold;\n",
       "          color: #2F4F4F;\n",
       "          background-color: #F0FFF0;\n",
       "    }    #T_1a2bcaba_f81f_11e9_a687_c49ded08efef td {\n",
       "          font-family: Times;\n",
       "          font-size: 14px;\n",
       "          text-align: center;\n",
       "          background-color: #F5FFFA;\n",
       "    }</style><table id=\"T_1a2bcaba_f81f_11e9_a687_c49ded08efef\" ><thead>    <tr>        <th class=\"blank\" ></th>        <th class=\"blank level0\" ></th>        <th class=\"col_heading level0 col0\" >Purchase Count</th>        <th class=\"col_heading level0 col1\" >Item Price</th>        <th class=\"col_heading level0 col2\" >Total Purchase Value</th>    </tr>    <tr>        <th class=\"index_name level0\" >Item ID</th>        <th class=\"index_name level1\" >Item Name</th>        <th class=\"blank\" ></th>        <th class=\"blank\" ></th>        <th class=\"blank\" ></th>    </tr></thead><tbody>\n",
       "                <tr>\n",
       "                        <th id=\"T_1a2bcaba_f81f_11e9_a687_c49ded08efeflevel0_row0\" class=\"row_heading level0 row0\" >178</th>\n",
       "                        <th id=\"T_1a2bcaba_f81f_11e9_a687_c49ded08efeflevel1_row0\" class=\"row_heading level1 row0\" >Oathbreaker, Last Hope of the Breaking Storm</th>\n",
       "                        <td id=\"T_1a2bcaba_f81f_11e9_a687_c49ded08efefrow0_col0\" class=\"data row0 col0\" >12</td>\n",
       "                        <td id=\"T_1a2bcaba_f81f_11e9_a687_c49ded08efefrow0_col1\" class=\"data row0 col1\" >$4.23</td>\n",
       "                        <td id=\"T_1a2bcaba_f81f_11e9_a687_c49ded08efefrow0_col2\" class=\"data row0 col2\" >$50.76</td>\n",
       "            </tr>\n",
       "            <tr>\n",
       "                        <th id=\"T_1a2bcaba_f81f_11e9_a687_c49ded08efeflevel0_row1\" class=\"row_heading level0 row1\" >82</th>\n",
       "                        <th id=\"T_1a2bcaba_f81f_11e9_a687_c49ded08efeflevel1_row1\" class=\"row_heading level1 row1\" >Nirvana</th>\n",
       "                        <td id=\"T_1a2bcaba_f81f_11e9_a687_c49ded08efefrow1_col0\" class=\"data row1 col0\" >9</td>\n",
       "                        <td id=\"T_1a2bcaba_f81f_11e9_a687_c49ded08efefrow1_col1\" class=\"data row1 col1\" >$4.90</td>\n",
       "                        <td id=\"T_1a2bcaba_f81f_11e9_a687_c49ded08efefrow1_col2\" class=\"data row1 col2\" >$44.10</td>\n",
       "            </tr>\n",
       "            <tr>\n",
       "                        <th id=\"T_1a2bcaba_f81f_11e9_a687_c49ded08efeflevel0_row2\" class=\"row_heading level0 row2\" >145</th>\n",
       "                        <th id=\"T_1a2bcaba_f81f_11e9_a687_c49ded08efeflevel1_row2\" class=\"row_heading level1 row2\" >Fiery Glass Crusader</th>\n",
       "                        <td id=\"T_1a2bcaba_f81f_11e9_a687_c49ded08efefrow2_col0\" class=\"data row2 col0\" >9</td>\n",
       "                        <td id=\"T_1a2bcaba_f81f_11e9_a687_c49ded08efefrow2_col1\" class=\"data row2 col1\" >$4.58</td>\n",
       "                        <td id=\"T_1a2bcaba_f81f_11e9_a687_c49ded08efefrow2_col2\" class=\"data row2 col2\" >$41.22</td>\n",
       "            </tr>\n",
       "            <tr>\n",
       "                        <th id=\"T_1a2bcaba_f81f_11e9_a687_c49ded08efeflevel0_row3\" class=\"row_heading level0 row3\" >92</th>\n",
       "                        <th id=\"T_1a2bcaba_f81f_11e9_a687_c49ded08efeflevel1_row3\" class=\"row_heading level1 row3\" >Final Critic</th>\n",
       "                        <td id=\"T_1a2bcaba_f81f_11e9_a687_c49ded08efefrow3_col0\" class=\"data row3 col0\" >8</td>\n",
       "                        <td id=\"T_1a2bcaba_f81f_11e9_a687_c49ded08efefrow3_col1\" class=\"data row3 col1\" >$4.88</td>\n",
       "                        <td id=\"T_1a2bcaba_f81f_11e9_a687_c49ded08efefrow3_col2\" class=\"data row3 col2\" >$39.04</td>\n",
       "            </tr>\n",
       "            <tr>\n",
       "                        <th id=\"T_1a2bcaba_f81f_11e9_a687_c49ded08efeflevel0_row4\" class=\"row_heading level0 row4\" >103</th>\n",
       "                        <th id=\"T_1a2bcaba_f81f_11e9_a687_c49ded08efeflevel1_row4\" class=\"row_heading level1 row4\" >Singed Scalpel</th>\n",
       "                        <td id=\"T_1a2bcaba_f81f_11e9_a687_c49ded08efefrow4_col0\" class=\"data row4 col0\" >8</td>\n",
       "                        <td id=\"T_1a2bcaba_f81f_11e9_a687_c49ded08efefrow4_col1\" class=\"data row4 col1\" >$4.35</td>\n",
       "                        <td id=\"T_1a2bcaba_f81f_11e9_a687_c49ded08efefrow4_col2\" class=\"data row4 col2\" >$34.80</td>\n",
       "            </tr>\n",
       "    </tbody></table>"
      ],
      "text/plain": [
       "<pandas.io.formats.style.Styler at 0x209bf821630>"
      ]
     },
     "execution_count": 10,
     "metadata": {},
     "output_type": "execute_result"
    }
   ],
   "source": [
    "item_sum2 = item_sum\n",
    "item_sum2['Total Purchase Value'] = item_sum2['Total Purchase Value'].astype(str)\n",
    "item_sum2['Total Purchase Value'] = item_sum2['Total Purchase Value'].map(lambda x: x.lstrip('+-').lstrip('$')).astype(float)\n",
    "item_sum2['Total Purchase Value'] = item_sum2['Total Purchase Value'].astype(float)\n",
    "item_sum2 = item_sum2.sort_values(by=['Total Purchase Value'], ascending=[False], kind='heapsort')\n",
    "item_sum2['Total Purchase Value'] = f('Total Purchase Value', item_sum2)\n",
    "\n",
    "(item_sum2.head().style\n",
    "    .set_table_styles(styles))"
   ]
  },
  {
   "cell_type": "markdown",
   "metadata": {},
   "source": [
    "##### WRITTEN ANALYSIS\n",
    "\n",
    "1. The 20-24 Age Demographic is by far the most key demographic as a revenue driver, as it is the largest by total revenue and from a number of players perspective.\n",
    "2. The customers are generally male as this group makes up 84% of the customer base.\n",
    "3. Price does not seem to affect the popularity in the current range, as there is not much corelation between popularity of an item vs the affordability of an item."
   ]
  }
 ],
 "metadata": {
  "anaconda-cloud": {},
  "kernel_info": {
   "name": "python3"
  },
  "kernelspec": {
   "display_name": "Python 3",
   "language": "python",
   "name": "python3"
  },
  "language_info": {
   "codemirror_mode": {
    "name": "ipython",
    "version": 3
   },
   "file_extension": ".py",
   "mimetype": "text/x-python",
   "name": "python",
   "nbconvert_exporter": "python",
   "pygments_lexer": "ipython3",
   "version": "3.6.9"
  },
  "latex_envs": {
   "LaTeX_envs_menu_present": true,
   "autoclose": false,
   "autocomplete": true,
   "bibliofile": "biblio.bib",
   "cite_by": "apalike",
   "current_citInitial": 1,
   "eqLabelWithNumbers": true,
   "eqNumInitial": 1,
   "hotkeys": {
    "equation": "Ctrl-E",
    "itemize": "Ctrl-I"
   },
   "labels_anchors": false,
   "latex_user_defs": false,
   "report_style_numbering": false,
   "user_envs_cfg": false
  },
  "nteract": {
   "version": "0.2.0"
  }
 },
 "nbformat": 4,
 "nbformat_minor": 2
}
